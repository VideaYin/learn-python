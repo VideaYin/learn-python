{
 "cells": [
  {
   "cell_type": "markdown",
   "metadata": {},
   "source": [
    "<font face=\"宋体\" color=\"red\" size=\"6\">切片索引：</font>    \n",
    "  <font face=\"宋体\" color=\"red\" size=\"5\">索引分为正索引和负索引，正索引从0开始，负索引从-1开始</font>    \n",
    "  \n"
   ]
  },
  {
   "cell_type": "markdown",
   "metadata": {},
   "source": [
    "<font face=\"宋体\" color=\"red\" size=\"5\">索引分为正索引和负索引，正索引从0开始，负索引从-1开始</font>  "
   ]
  },
  {
   "cell_type": "markdown",
   "metadata": {},
   "source": [
    "<font face=\"宋体\" color=\"blue\" size=\"5\">切片操作基本表达式：object[start_index:end_index:step] (start_index：开始位置；end_index：结束位置；step：步长 (步长为正，从左到右；步长为负，从右到左))</font> "
   ]
  },
  {
   "cell_type": "code",
   "execution_count": 1,
   "metadata": {},
   "outputs": [],
   "source": [
    "a=[0,1,2,3,4,5,6,7,8,9]\n"
   ]
  },
  {
   "cell_type": "code",
   "execution_count": 14,
   "metadata": {},
   "outputs": [
    {
     "name": "stdout",
     "output_type": "stream",
     "text": [
      "[0, 1, 2, 3, 4, 5, 6, 7, 8, 9]\n",
      "[0, 1, 2, 3, 4, 5, 6, 7, 8, 9]\n",
      "[9, 8, 7, 6, 5, 4, 3, 2, 1, 0]\n"
     ]
    }
   ],
   "source": [
    "#切取完整对象\n",
    "a=[0,1,2,3,4,5,6,7,8,9]\n",
    "print(a[:])#默认从0开始，到最后一个结束，步长为1\n",
    "print(a[::])#默认从0开始，到最后一个结束，步长为1\n",
    "print(a[::-1])#默认从最后一个开始，到0结束，步长为1（从右往左）\n"
   ]
  },
  {
   "cell_type": "code",
   "execution_count": 17,
   "metadata": {},
   "outputs": [
    {
     "name": "stdout",
     "output_type": "stream",
     "text": [
      "0\n",
      "9\n",
      "2\n"
     ]
    }
   ],
   "source": [
    "#切取单个值\n",
    "a=[0,1,2,3,4,5,6,7,8,9]\n",
    "print(a[0])#获取第一个\n",
    "print(a[-1])#获取最后一个\n",
    "print(a[2])#获取序列为2的值"
   ]
  },
  {
   "cell_type": "code",
   "execution_count": 32,
   "metadata": {},
   "outputs": [
    {
     "name": "stdout",
     "output_type": "stream",
     "text": [
      "------1、三个参数，从左往右---------\n",
      "[2, 3, 4, 5]\n",
      "[2, 5]\n",
      "------2、三个参数，从右往左---------\n",
      "[5, 4, 3, 2]\n",
      "[5, 3]\n",
      "------3、两个参数，从左往右---------\n",
      "[1, 2, 3, 4]\n",
      "[1, 4, 7]\n",
      "[0, 2]\n",
      "------4、两个参数，从右往左---------\n",
      "[]\n",
      "[1]\n",
      "[9, 7, 5]\n",
      "------5、一个参数，从左往右---------\n",
      "[0, 4, 8]\n",
      "[0, 1]\n",
      "[5, 6, 7, 8, 9]\n",
      "------6、一个参数，从右往左---------\n",
      "[9, 5, 1]\n",
      "[9, 8, 7, 6, 5, 4, 3]\n",
      "[5, 4, 3, 2, 1, 0]\n"
     ]
    }
   ],
   "source": [
    "#切取部分，start_index和end_index 都是正，其中start_index会展示出来，end_index不展示\n",
    "a=[0,1,2,3,4,5,6,7,8,9]\n",
    "print('------1、三个参数，从左往右---------')\n",
    "print(a[2:6:1])#此处从索引2开始，到索引6结束，步长为1（从左往右）\n",
    "print(a[2:6:3])#此处从索引2开始，到索引6结束，步长为3（从左往右）\n",
    "print('------2、三个参数，从右往左---------')\n",
    "print(a[5:1:-1])#此处从索引5开始，到索引1结束，步长为-1（顺序从右往左，所以前面两个参数也是倒序）\n",
    "print(a[5:1:-2])#此处从索引5开始，到索引1结束，步长为-2（顺序从右往左，所以前面两个参数也是倒序）\n",
    "print('------3、两个参数，从左往右---------')\n",
    "print(a[1:5:])\n",
    "print(a[1::3])\n",
    "print(a[:3:2])\n",
    "print('------4、两个参数，从右往左---------')\n",
    "print(a[1:5:-1])\n",
    "print(a[1::-3])\n",
    "print(a[:3:-2])\n",
    "print('------5、一个参数，从左往右---------')\n",
    "print(a[::4])#此处默认从0开始，直到结束，步长为4（从左往右）\n",
    "print(a[:2:])#此处默认从0开始，直到索引2结束，步长默认为1（从左往右）\n",
    "print(a[5::])#此处从索引5开始，直到结束，步长默认为1（从左往右）\n",
    "print('------6、一个参数，从右往左---------')\n",
    "print(a[::-4])#此处默认从0开始，直到结束，步长为-4（从右往左）\n",
    "print(a[:2:-1])#此处默认从0开始，直到索引2结束，步长为-1（从右往左）\n",
    "print(a[5::-1])#此处从索引5开始，直到结束，步长为-1（从右往左）"
   ]
  },
  {
   "cell_type": "code",
   "execution_count": 34,
   "metadata": {},
   "outputs": [
    {
     "name": "stdout",
     "output_type": "stream",
     "text": [
      "------1、三个参数，从左往右---------\n",
      "[4, 5, 6, 7]\n",
      "[4, 7]\n",
      "------2、三个参数，从右往左---------\n",
      "[9, 8, 7, 6]\n",
      "[9, 7]\n"
     ]
    }
   ],
   "source": [
    "#切取部分，start_index和end_index 都是负，其中start_index不展示，end_index会展示出来\n",
    "a=[0,1,2,3,4,5,6,7,8,9]\n",
    "print('------1、三个参数，从左往右---------')\n",
    "print(a[-6:-2:1])#此处从索引-6开始，到索引-2结束，步长为1（从左往右）\n",
    "print(a[-6:-2:3])#此处从索引-6开始，到索引-2结束，步长为3（从左往右）\n",
    "print('------2、三个参数，从右往左---------')\n",
    "print(a[-1:-5:-1])#此处从索引-1开始，到索引-5结束，步长为-1（顺序从右往左，所以前面两个参数也是倒序）\n",
    "print(a[-1:-5:-2])#此处从索引-1开始，到索引-5结束，步长为-2（顺序从右往左，所以前面两个参数也是倒序）\n",
    "# print('------3、两个参数，从左往右---------')\n",
    "# print(a[1:5:])\n",
    "# print(a[1::3])\n",
    "# print(a[:3:2])\n",
    "# print('------4、两个参数，从右往左---------')\n",
    "# print(a[1:5:-1])\n",
    "# print(a[1::-3])\n",
    "# print(a[:3:-2])\n",
    "# print('------5、一个参数，从左往右---------')\n",
    "# print(a[::4])#此处默认从0开始，直到结束，步长为4（从左往右）\n",
    "# print(a[:2:])#此处默认从0开始，直到索引2结束，步长默认为1（从左往右）\n",
    "# print(a[5::])#此处从索引5开始，直到结束，步长默认为1（从左往右）\n",
    "# print('------6、一个参数，从右往左---------')\n",
    "# print(a[::-4])#此处默认从0开始，直到结束，步长为-4（从右往左）\n",
    "# print(a[:2:-1])#此处默认从0开始，直到索引2结束，步长为-1（从右往左）\n",
    "# print(a[5::-1])#此处从索引5开始，直到结束，步长为-1（从右往左）"
   ]
  },
  {
   "cell_type": "code",
   "execution_count": null,
   "metadata": {},
   "outputs": [],
   "source": []
  },
  {
   "cell_type": "code",
   "execution_count": null,
   "metadata": {},
   "outputs": [],
   "source": []
  },
  {
   "cell_type": "code",
   "execution_count": null,
   "metadata": {},
   "outputs": [],
   "source": []
  },
  {
   "cell_type": "code",
   "execution_count": null,
   "metadata": {},
   "outputs": [],
   "source": []
  },
  {
   "cell_type": "code",
   "execution_count": null,
   "metadata": {},
   "outputs": [],
   "source": []
  },
  {
   "cell_type": "code",
   "execution_count": null,
   "metadata": {},
   "outputs": [],
   "source": []
  },
  {
   "cell_type": "code",
   "execution_count": null,
   "metadata": {},
   "outputs": [],
   "source": []
  },
  {
   "cell_type": "code",
   "execution_count": null,
   "metadata": {},
   "outputs": [],
   "source": []
  },
  {
   "cell_type": "code",
   "execution_count": null,
   "metadata": {},
   "outputs": [],
   "source": []
  },
  {
   "cell_type": "code",
   "execution_count": null,
   "metadata": {},
   "outputs": [],
   "source": []
  },
  {
   "cell_type": "code",
   "execution_count": null,
   "metadata": {},
   "outputs": [],
   "source": []
  },
  {
   "cell_type": "code",
   "execution_count": null,
   "metadata": {},
   "outputs": [],
   "source": []
  },
  {
   "cell_type": "code",
   "execution_count": null,
   "metadata": {},
   "outputs": [],
   "source": []
  },
  {
   "cell_type": "code",
   "execution_count": null,
   "metadata": {},
   "outputs": [],
   "source": []
  }
 ],
 "metadata": {
  "kernelspec": {
   "display_name": "Python 3",
   "language": "python",
   "name": "python3"
  },
  "language_info": {
   "codemirror_mode": {
    "name": "ipython",
    "version": 3
   },
   "file_extension": ".py",
   "mimetype": "text/x-python",
   "name": "python",
   "nbconvert_exporter": "python",
   "pygments_lexer": "ipython3",
   "version": "3.7.0"
  }
 },
 "nbformat": 4,
 "nbformat_minor": 2
}
