{
 "cells": [
  {
   "cell_type": "code",
   "execution_count": 2,
   "metadata": {},
   "outputs": [
    {
     "name": "stdout",
     "output_type": "stream",
     "text": [
      "h\n",
      "l\n",
      "!\n",
      "o\n"
     ]
    }
   ],
   "source": [
    "#字符串用双引号或者单引号括起来的一个或多个字符\n",
    "\n",
    "#字符串正向递增，反向递减\n",
    "#正向递增：  0 1 2 3 4 5 6 7 8 9 10 11\n",
    "#            h e l l o _ w o r l d !\n",
    "s=\"hello world!\"\n",
    "#反向递减： -12 -11 -10 -9 -8 -7 -6 -5 -4 -3 -2 -1\n",
    "#            h   e   l   l  o  _ w  o  r  l  d  ! \n",
    "\n",
    "print(s[0])#h\n",
    "\n",
    "print(s[9])#l\n",
    "\n",
    "print(s[-1])#!\n",
    "\n",
    "print(s[-8])#o"
   ]
  },
  {
   "cell_type": "code",
   "execution_count": 12,
   "metadata": {},
   "outputs": [
    {
     "name": "stdout",
     "output_type": "stream",
     "text": [
      "orl\n",
      "\n"
     ]
    }
   ],
   "source": [
    "#字符串切片，表示为s[M:N],切片中的M和N按照正向递增顺序切片[7:9],反向递减顺序切片[-9,-7]\n",
    "\n",
    "s=\"hello world!\"\n",
    "print(s[7:10])#正向递增切片\n",
    "\n",
    "# print(s[7:-2])#正向递增切片\n",
    "\n",
    "print(s[-7:-9])#此表达错误\n"
   ]
  },
  {
   "cell_type": "code",
   "execution_count": 13,
   "metadata": {},
   "outputs": [
    {
     "name": "stdout",
     "output_type": "stream",
     "text": [
      "s的长度为： 4\n",
      "s1的长度为： 12\n"
     ]
    }
   ],
   "source": [
    "#字符串长度函数len(str)，一个英文或者一个中文字符长度都是1\n",
    "s=\"爱我中华\"#长度为4\n",
    "s1=\"hello world!\"#长度12\n",
    "\n",
    "print(\"s的长度为：\",len(s))\n",
    "print(\"s1的长度为：\",len(s1))"
   ]
  },
  {
   "cell_type": "code",
   "execution_count": 17,
   "metadata": {},
   "outputs": [],
   "source": []
  },
  {
   "cell_type": "code",
   "execution_count": null,
   "metadata": {},
   "outputs": [],
   "source": []
  }
 ],
 "metadata": {
  "kernelspec": {
   "display_name": "Python 3",
   "language": "python",
   "name": "python3"
  },
  "language_info": {
   "codemirror_mode": {
    "name": "ipython",
    "version": 3
   },
   "file_extension": ".py",
   "mimetype": "text/x-python",
   "name": "python",
   "nbconvert_exporter": "python",
   "pygments_lexer": "ipython3",
   "version": "3.7.3"
  }
 },
 "nbformat": 4,
 "nbformat_minor": 2
}
