{
 "cells": [
  {
   "cell_type": "markdown",
   "metadata": {},
   "source": [
    "<font color=\"red\" size=5>函数</font>  \n",
    "<font color=\"indigo\" size=3>特点：  \n",
    "    1、功能性  \n",
    "    2、隐藏性  \n",
    "    3、避免重复代码\n",
    "    \n",
    "</font>"
   ]
  },
  {
   "cell_type": "code",
   "execution_count": 1,
   "metadata": {},
   "outputs": [
    {
     "name": "stdout",
     "output_type": "stream",
     "text": [
      "1.235\n"
     ]
    }
   ],
   "source": [
    "#python 自带函数示例，print()函数，打印内容到控制台  round()函数，取小数点后的数字\n",
    "a = 1.23456\n",
    "print(round(a,3))#取小数点后的三位，四舍五入"
   ]
  },
  {
   "cell_type": "code",
   "execution_count": 5,
   "metadata": {},
   "outputs": [
    {
     "name": "stdout",
     "output_type": "stream",
     "text": [
      "Help on built-in function round in module builtins:\n",
      "\n",
      "round(number, ndigits=None)\n",
      "    Round a number to a given precision in decimal digits.\n",
      "    \n",
      "    The return value is an integer if ndigits is omitted or None.  Otherwise\n",
      "    the return value has the same type as the number.  ndigits may be negative.\n",
      "\n"
     ]
    }
   ],
   "source": [
    "#利用help函数查看python 自带函数的介绍\n",
    "help(round)"
   ]
  },
  {
   "cell_type": "code",
   "execution_count": 7,
   "metadata": {},
   "outputs": [
    {
     "name": "stdout",
     "output_type": "stream",
     "text": [
      "The Zen of Python, by Tim Peters\n",
      "\n",
      "Beautiful is better than ugly.\n",
      "Explicit is better than implicit.\n",
      "Simple is better than complex.\n",
      "Complex is better than complicated.\n",
      "Flat is better than nested.\n",
      "Sparse is better than dense.\n",
      "Readability counts.\n",
      "Special cases aren't special enough to break the rules.\n",
      "Although practicality beats purity.\n",
      "Errors should never pass silently.\n",
      "Unless explicitly silenced.\n",
      "In the face of ambiguity, refuse the temptation to guess.\n",
      "There should be one-- and preferably only one --obvious way to do it.\n",
      "Although that way may not be obvious at first unless you're Dutch.\n",
      "Now is better than never.\n",
      "Although never is often better than *right* now.\n",
      "If the implementation is hard to explain, it's a bad idea.\n",
      "If the implementation is easy to explain, it may be a good idea.\n",
      "Namespaces are one honking great idea -- let's do more of those!\n"
     ]
    }
   ],
   "source": [
    "#查看python之禅\n",
    "import this"
   ]
  },
  {
   "cell_type": "markdown",
   "metadata": {},
   "source": [
    "<font color=\"red\" size=5>函数的定义和特点</font>  \n",
    "<font color=\"indigo\" size=3>格式：  \n",
    "    def functionName(parameter_list)  \n",
    "        pass  \n",
    "</font>\n",
    "<font color=\"indigo\" size=3>其中，参数列表parameter_list可以为空  \n",
    "    有返回：value或者None\n",
    "</font>"
   ]
  },
  {
   "cell_type": "code",
   "execution_count": 9,
   "metadata": {},
   "outputs": [
    {
     "name": "stdout",
     "output_type": "stream",
     "text": [
      "11\n"
     ]
    }
   ],
   "source": [
    "#定义一个函数，实现两个数字相加，并打印结果\n",
    "def add(x,y):\n",
    "    result=x+y    \n",
    "    print(result)\n",
    "\n",
    "#调用自定义函数\n",
    "add(2+3,6)"
   ]
  },
  {
   "cell_type": "code",
   "execution_count": 12,
   "metadata": {},
   "outputs": [
    {
     "name": "stdout",
     "output_type": "stream",
     "text": [
      "(4, 14)\n",
      "<class 'tuple'>\n",
      "4 14\n",
      "<class 'int'> <class 'int'>\n"
     ]
    }
   ],
   "source": [
    "#函数返回多个结果\n",
    "def damage(skill1,skill2):\n",
    "    damage1 = skill1*2\n",
    "    damage2 = skill2*3+5\n",
    "    return damage1,damage2\n",
    "\n",
    "damage_result = damage(2,3)\n",
    "print(damage_result)#(4, 14)\n",
    "print(type(damage_result))#元组\n",
    "\n",
    "skill1_damage, skill2_damage = damage(2,3)#序列解包\n",
    "print(skill1_damage,skill2_damage)\n",
    "print(type(skill1_damage),type(skill2_damage))"
   ]
  },
  {
   "cell_type": "markdown",
   "metadata": {},
   "source": [
    "<font color=\"red\" size=5>序列解包和链式赋值</font>  "
   ]
  },
  {
   "cell_type": "code",
   "execution_count": 17,
   "metadata": {},
   "outputs": [
    {
     "name": "stdout",
     "output_type": "stream",
     "text": [
      "1 2 3\n",
      "----------\n",
      "(1, 2, 3)\n",
      "<class 'tuple'>\n",
      "----------\n",
      "1 2 3\n",
      "<class 'int'> <class 'int'> <class 'int'>\n"
     ]
    }
   ],
   "source": [
    "#序列解包\n",
    "a,b,c = 1,2,3\n",
    "print(a,b,c)\n",
    "print(\"----------\")\n",
    "\n",
    "d = 1,2,3\n",
    "print(d)\n",
    "print(type(d))\n",
    "print(\"----------\")\n",
    "\n",
    "d = 1,2,3\n",
    "e,f,g = d\n",
    "print(e,f,g)\n",
    "print(type(e),type(f),type(g))\n"
   ]
  },
  {
   "cell_type": "code",
   "execution_count": 18,
   "metadata": {},
   "outputs": [
    {
     "name": "stdout",
     "output_type": "stream",
     "text": [
      "1 1 1\n"
     ]
    }
   ],
   "source": [
    "#链式赋值\n",
    "a=b=c = 1\n",
    "print(a,b,c)"
   ]
  },
  {
   "cell_type": "code",
   "execution_count": 19,
   "metadata": {},
   "outputs": [
    {
     "name": "stdout",
     "output_type": "stream",
     "text": [
      "arg1= 1\n",
      "arg2= 2\n",
      "arg1= 2\n",
      "arg2= 1\n"
     ]
    }
   ],
   "source": [
    "#关键字参数调用函数\n",
    "def func(arg1,arg2):\n",
    "    print(\"arg1=\",arg1)\n",
    "    print(\"arg2=\",arg2)\n",
    "    \n",
    "func(1,2)\n",
    "func(arg2=1,arg1=2)"
   ]
  },
  {
   "cell_type": "code",
   "execution_count": 22,
   "metadata": {},
   "outputs": [
    {
     "name": "stdout",
     "output_type": "stream",
     "text": [
      "edison 30 南京\n",
      "videa 26 滁州\n"
     ]
    }
   ],
   "source": [
    "#默认参数\n",
    "def func(name,age,city=\"南京\"):\n",
    "    print(name,age,city)\n",
    "    \n",
    "func(\"edison\",30)\n",
    "func(\"videa\",26,\"滁州\")"
   ]
  },
  {
   "cell_type": "code",
   "execution_count": 24,
   "metadata": {},
   "outputs": [
    {
     "name": "stdout",
     "output_type": "stream",
     "text": [
      "(0, 1, '2', 3, '4', 5.0)\n",
      "<class 'tuple'>\n"
     ]
    }
   ],
   "source": [
    "#可变参数\n",
    "def func(*param):\n",
    "    print(param)\n",
    "    print(type(param))\n",
    "    \n",
    "func(0,1,\"2\",3,\"4\",5.0)"
   ]
  },
  {
   "cell_type": "code",
   "execution_count": 25,
   "metadata": {},
   "outputs": [
    {
     "name": "stdout",
     "output_type": "stream",
     "text": [
      "14\n"
     ]
    }
   ],
   "source": [
    "#可变参数\n",
    "def sqsum(*param):\n",
    "    sum = 0\n",
    "    for i in param:\n",
    "        sum += i*i\n",
    "    print(sum)\n",
    "    \n",
    "sqsum(1,2,3)"
   ]
  },
  {
   "cell_type": "code",
   "execution_count": 30,
   "metadata": {},
   "outputs": [
    {
     "name": "stdout",
     "output_type": "stream",
     "text": [
      "<class 'dict'>\n",
      "北京 : 22\n",
      "上海 : 28\n",
      "广州 : 30\n",
      "南京 : 24\n"
     ]
    }
   ],
   "source": [
    "def city_temp(param):\n",
    "    print(type(param))\n",
    "    for key,value in param.items():#dict.items(),获取字典中的每组键值\n",
    "        print(key,\":\",value)\n",
    "\n",
    "city_temp({\"北京\":22 ,\"上海\":28 ,\"广州\":30 ,\"南京\":24})\n",
    "    "
   ]
  },
  {
   "cell_type": "markdown",
   "metadata": {},
   "source": [
    "<font color=\"red\" size=5>变量的作用域</font>  "
   ]
  },
  {
   "cell_type": "code",
   "execution_count": 32,
   "metadata": {},
   "outputs": [
    {
     "name": "stdout",
     "output_type": "stream",
     "text": [
      "6\n",
      "0\n"
     ]
    }
   ],
   "source": [
    "num = 0  #全局变量\n",
    "\n",
    "def func(x,y):\n",
    "    num = x+y  #局部变量\n",
    "    print(num)\n",
    "\n",
    "func(1+2,3)\n",
    "\n",
    "print(num)"
   ]
  },
  {
   "cell_type": "code",
   "execution_count": 5,
   "metadata": {},
   "outputs": [
    {
     "name": "stdout",
     "output_type": "stream",
     "text": [
      "func1= 1\n",
      "func2= 2\n",
      "func3= 3\n",
      "num= 0\n"
     ]
    }
   ],
   "source": [
    "#作用域链，变量值在最近的作用域内找\n",
    "num = 0\n",
    "\n",
    "def func1():\n",
    "    num = 1\n",
    "    print(\"func1=\",num)\n",
    "    def func2():\n",
    "        num = 2\n",
    "        print(\"func2=\",num)\n",
    "        def func3():\n",
    "            num = 3\n",
    "            print(\"func3=\",num)\n",
    "        func3()\n",
    "    func2()\n",
    "func1()\n",
    "print(\"num=\",num)\n"
   ]
  },
  {
   "cell_type": "code",
   "execution_count": 11,
   "metadata": {},
   "outputs": [
    {
     "name": "stdout",
     "output_type": "stream",
     "text": [
      "2\n"
     ]
    }
   ],
   "source": [
    "#global关键字,将局部变量变为全局变量\n",
    "\n",
    "def func():\n",
    "    global a\n",
    "    a = 2\n",
    "\n",
    "func()\n",
    "print(a)"
   ]
  },
  {
   "cell_type": "code",
   "execution_count": null,
   "metadata": {},
   "outputs": [],
   "source": []
  }
 ],
 "metadata": {
  "kernelspec": {
   "display_name": "Python 3",
   "language": "python",
   "name": "python3"
  },
  "language_info": {
   "codemirror_mode": {
    "name": "ipython",
    "version": 3
   },
   "file_extension": ".py",
   "mimetype": "text/x-python",
   "name": "python",
   "nbconvert_exporter": "python",
   "pygments_lexer": "ipython3",
   "version": "3.7.3"
  }
 },
 "nbformat": 4,
 "nbformat_minor": 2
}
