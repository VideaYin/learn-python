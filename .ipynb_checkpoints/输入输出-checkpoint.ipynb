{
 "cells": [
  {
   "cell_type": "code",
   "execution_count": 2,
   "metadata": {},
   "outputs": [
    {
     "name": "stdout",
     "output_type": "stream",
     "text": [
      "请输入你的名字：Videa\n",
      "请输入你的年龄：25\n",
      "\n",
      "\n",
      "        Videa您好，\n",
      "                您于1994年出生，至今已有25岁啦！\n",
      "\n"
     ]
    }
   ],
   "source": [
    "# input()输入  eval()转换  print()打印\n",
    "import time\n",
    "name = input(\"请输入你的名字：\")\n",
    "age = input(\"请输入你的年龄：\")\n",
    "balance = 2019-eval(age)\n",
    "\n",
    "print('''\n",
    "\n",
    "        {}您好，\n",
    "                您于{}年出生，至今已有{}岁啦！\n",
    "'''.format(name,balance,age))\n"
   ]
  },
  {
   "cell_type": "code",
   "execution_count": 7,
   "metadata": {},
   "outputs": [
    {
     "name": "stdout",
     "output_type": "stream",
     "text": [
      "请输入您想说的话：hello python!\n",
      "!nohtyp olleh"
     ]
    }
   ],
   "source": [
    "# 倒背如流1\n",
    "s = input(\"请输入您想说的话：\")\n",
    "i=len(s)-1\n",
    "while i>=0:\n",
    "    print(s[i],end=\" \")\n",
    "    i=i-1"
   ]
  },
  {
   "cell_type": "code",
   "execution_count": 12,
   "metadata": {},
   "outputs": [
    {
     "name": "stdout",
     "output_type": "stream",
     "text": [
      "请输入您想说的话：hello\n",
      "o l l e h "
     ]
    }
   ],
   "source": [
    "# 倒背如流2\n",
    "s=input(\"请输入您想说的话：\")\n",
    "i=-1\n",
    "# print(i)\n",
    "while len(s)*-1<i+1:\n",
    "    print(s[i],end=\" \")\n",
    "    i=i-1"
   ]
  },
  {
   "cell_type": "code",
   "execution_count": 13,
   "metadata": {},
   "outputs": [
    {
     "name": "stdout",
     "output_type": "stream",
     "text": [
      "请输入您想说的话：hello\n",
      "olleh\n"
     ]
    }
   ],
   "source": [
    "# 倒背如流3\n",
    "s = input(\"请输入您想说的话：\")\n",
    "print(s[::-1])"
   ]
  },
  {
   "cell_type": "code",
   "execution_count": 5,
   "metadata": {},
   "outputs": [
    {
     "name": "stdout",
     "output_type": "stream",
     "text": [
      "3\n"
     ]
    }
   ],
   "source": [
    "print(len(\"sss\"))"
   ]
  },
  {
   "cell_type": "code",
   "execution_count": null,
   "metadata": {},
   "outputs": [],
   "source": []
  }
 ],
 "metadata": {
  "kernelspec": {
   "display_name": "Python 3",
   "language": "python",
   "name": "python3"
  },
  "language_info": {
   "codemirror_mode": {
    "name": "ipython",
    "version": 3
   },
   "file_extension": ".py",
   "mimetype": "text/x-python",
   "name": "python",
   "nbconvert_exporter": "python",
   "pygments_lexer": "ipython3",
   "version": "3.7.0"
  }
 },
 "nbformat": 4,
 "nbformat_minor": 2
}
