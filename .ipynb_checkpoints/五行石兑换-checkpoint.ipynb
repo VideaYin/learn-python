{
 "cells": [
  {
   "cell_type": "markdown",
   "metadata": {},
   "source": [
    "<font color=\"red\" size=5>五行石兑换规则</font>  \n",
    "<font color=\"blue\" size=3>  \n",
    "    购买一级石头  \n",
    "    l1_value = 0.75 # 一颗一级五行石消耗0.75金  \n",
    "    l1_value_diamond = 8 # 一颗一级五行石同时需要消耗8个钻石  \n",
    "    \n",
    "   一级石头合成三级石头  \n",
    "   l1_to_l3 = 12 # 12个一级石头合成三级石头  \n",
    "   l1_to_l3_glod = 0.39 # 还需要0.39金  \n",
    "   l1_to_l3_vit = 10 # 还需要10点体力  \n",
    "   \n",
    "   三级石头合成四级石头  \n",
    "   l3_to_l4 = 16 # 需要一颗三级石头，和16颗一级石头  \n",
    "   l3_to_l4_glod = 0.897 # 还需要0.897金  \n",
    "   l3_to_l4_vit = 10 # 还需要10点体力  \n",
    "   l3_to_l4_rate = 0.4878 # 三级石头合成为四级石头概率为0.4878，如果失败除了体力外，其它原料不退回  \n",
    "   \n",
    "   四级石头合成六级石头  \n",
    "   l4_to_l6 = 12 # 需要一颗四级石头，和12颗一级石头  \n",
    "   l4_to_l6_glod = 19.75 # 还需要19.75金  \n",
    "   l4_to_l6_vit = 10 # 还需要10点体力  \n",
    "    \n",
    "   已知：一颗6级石头市场售价为750金，一颗钻石售价0.05金，一点体力售价1金\n",
    "   问：直接购买6级石头和自己生成6级石头哪个划算\n",
    "    \n",
    "</font>  \n"
   ]
  }
 ],
 "metadata": {
  "kernelspec": {
   "display_name": "Python 3",
   "language": "python",
   "name": "python3"
  },
  "language_info": {
   "codemirror_mode": {
    "name": "ipython",
    "version": 3
   },
   "file_extension": ".py",
   "mimetype": "text/x-python",
   "name": "python",
   "nbconvert_exporter": "python",
   "pygments_lexer": "ipython3",
   "version": "3.7.3"
  }
 },
 "nbformat": 4,
 "nbformat_minor": 2
}
