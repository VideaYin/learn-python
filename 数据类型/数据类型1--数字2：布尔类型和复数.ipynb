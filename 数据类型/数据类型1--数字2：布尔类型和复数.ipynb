{
 "cells": [
  {
   "cell_type": "markdown",
   "metadata": {},
   "source": [
    "<font color=\"red\" size=5>数字：布尔类型 bool</font>  \n",
    "<font color=\"red\" size=3>布尔类型和其它类型的关系：非空非零为True，  None，空和零是False</font>  \n",
    "<font color=\"blue\" size=5>数字：复数 complex </font>"
   ]
  },
  {
   "cell_type": "code",
   "execution_count": 2,
   "metadata": {},
   "outputs": [
    {
     "name": "stdout",
     "output_type": "stream",
     "text": [
      "True\n",
      "<class 'bool'>\n",
      "False\n",
      "<class 'bool'>\n"
     ]
    }
   ],
   "source": [
    "#布尔类型，真True  假Flase\n",
    "a=True\n",
    "print(a)\n",
    "print(type(a))\n",
    "\n",
    "b=False\n",
    "print(b)\n",
    "print(type(b))"
   ]
  },
  {
   "cell_type": "code",
   "execution_count": 6,
   "metadata": {},
   "outputs": [
    {
     "name": "stdout",
     "output_type": "stream",
     "text": [
      "1\n",
      "0\n",
      "False\n",
      "True\n",
      "True\n",
      "True\n",
      "True\n"
     ]
    }
   ],
   "source": [
    "#布尔类型和数字的关系，只有0表示False，其他值都是True\n",
    "a=True\n",
    "b=False\n",
    "print(int(a))#布尔转数字\n",
    "print(int(b))#布尔转数字\n",
    "\n",
    "a=0\n",
    "b=1\n",
    "print(bool(a))#数字转布尔\n",
    "print(bool(b))#数字转布尔\n",
    "\n",
    "print(bool(3))\n",
    "print(bool(6.3))\n",
    "print(bool(-3))"
   ]
  },
  {
   "cell_type": "code",
   "execution_count": null,
   "metadata": {},
   "outputs": [],
   "source": [
    "\n"
   ]
  }
 ],
 "metadata": {
  "kernelspec": {
   "display_name": "Python 3",
   "language": "python",
   "name": "python3"
  },
  "language_info": {
   "codemirror_mode": {
    "name": "ipython",
    "version": 3
   },
   "file_extension": ".py",
   "mimetype": "text/x-python",
   "name": "python",
   "nbconvert_exporter": "python",
   "pygments_lexer": "ipython3",
   "version": "3.7.0"
  }
 },
 "nbformat": 4,
 "nbformat_minor": 2
}
