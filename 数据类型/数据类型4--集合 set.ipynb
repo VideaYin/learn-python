{
 "cells": [
  {
   "cell_type": "markdown",
   "metadata": {},
   "source": [
    "**<font color = red size=5> 集合 set </font>**  \n",
    "**<font color = red size=3> 集合是无序且唯一不重复的，定义方式：set{},{arg0,arg1...}  不支持下标索引访问和切片操作 </font>**"
   ]
  },
  {
   "cell_type": "code",
   "execution_count": 2,
   "metadata": {},
   "outputs": [
    {
     "name": "stdout",
     "output_type": "stream",
     "text": [
      "{1, 2, 3, '4'}\n",
      "<class 'set'>\n"
     ]
    }
   ],
   "source": [
    "#集合是无序的，定义方式：{},不支持下标索引访问和切片操作\n",
    "a={1,3,2,\"4\"}\n",
    "print(a)\n",
    "print(type(a))"
   ]
  },
  {
   "cell_type": "code",
   "execution_count": 8,
   "metadata": {},
   "outputs": [
    {
     "name": "stdout",
     "output_type": "stream",
     "text": [
      "{1, 2, 3, 4}\n"
     ]
    }
   ],
   "source": [
    "#集合是不重复的\n",
    "b={1,2,2,3,3,3,4,4,4,4}\n",
    "print(b)"
   ]
  },
  {
   "cell_type": "code",
   "execution_count": 10,
   "metadata": {},
   "outputs": [
    {
     "name": "stdout",
     "output_type": "stream",
     "text": [
      "5\n"
     ]
    }
   ],
   "source": [
    "#集合长度\n",
    "c={1,1,1,2,3,4,5}\n",
    "print(len(c))"
   ]
  },
  {
   "cell_type": "code",
   "execution_count": 1,
   "metadata": {},
   "outputs": [
    {
     "name": "stdout",
     "output_type": "stream",
     "text": [
      "{'b', 'd', 'a', 'c'}\n",
      "False\n",
      "True\n",
      "False\n",
      "True\n"
     ]
    }
   ],
   "source": [
    "#集合元素是否存在\n",
    "d={\"a\",\"a\",\"b\",\"c\",\"d\"}\n",
    "print(d)\n",
    "print(2 in d)\n",
    "print(\"d\" in d)\n",
    "print(\"f\" in d)\n",
    "print(\"f\" not in d)"
   ]
  },
  {
   "cell_type": "code",
   "execution_count": 19,
   "metadata": {},
   "outputs": [
    {
     "name": "stdout",
     "output_type": "stream",
     "text": [
      "{'b', 'c', 'a', ('a', 'b')}\n"
     ]
    }
   ],
   "source": [
    "#集合元素类型\n",
    "# f={\"a\",'a',(\"a\",\"b\"),\"b\",\"c\",[\"d\",\"f\"]} #集合中不能存放list，但是可以放元组\n",
    "# print(f)\n",
    "g={\"a\",'a',(\"a\",\"b\"),\"b\",\"c\"}\n",
    "print(g)"
   ]
  },
  {
   "cell_type": "code",
   "execution_count": 3,
   "metadata": {},
   "outputs": [
    {
     "name": "stdout",
     "output_type": "stream",
     "text": [
      "{1, 2, 5, 6}\n"
     ]
    }
   ],
   "source": [
    "#去除两个集合中重复元素（差集）\n",
    "a = {1,2,3,4,5,6}\n",
    "b = {3,4}\n",
    "print(a-b)"
   ]
  },
  {
   "cell_type": "code",
   "execution_count": 4,
   "metadata": {},
   "outputs": [
    {
     "name": "stdout",
     "output_type": "stream",
     "text": [
      "{3, 4}\n"
     ]
    }
   ],
   "source": [
    "#找出两个集合中的共有元素（交集）\n",
    "a = {1,2,3,4,5,6}\n",
    "b = {3,4}\n",
    "print(a&b)"
   ]
  },
  {
   "cell_type": "code",
   "execution_count": 6,
   "metadata": {},
   "outputs": [
    {
     "name": "stdout",
     "output_type": "stream",
     "text": [
      "{1, 2, 3, 4, 5, 6, 7}\n"
     ]
    }
   ],
   "source": [
    "#合并两个集合（并集）\n",
    "a = {1,2,3,4,5,6}\n",
    "b = {3,4,7}\n",
    "print(a | b)"
   ]
  },
  {
   "cell_type": "code",
   "execution_count": 9,
   "metadata": {},
   "outputs": [
    {
     "name": "stdout",
     "output_type": "stream",
     "text": [
      "{}\n",
      "<class 'dict'>\n",
      "-----------\n",
      "<class 'set'>\n",
      "0\n"
     ]
    }
   ],
   "source": [
    "#定义一个空的集合\n",
    "A={}\n",
    "print(A)\n",
    "print(type(A))\n",
    "\n",
    "print(\"-----------\")\n",
    "a=set()\n",
    "print(type(a))\n",
    "print(len(a))\n"
   ]
  },
  {
   "cell_type": "code",
   "execution_count": null,
   "metadata": {},
   "outputs": [],
   "source": []
  }
 ],
 "metadata": {
  "kernelspec": {
   "display_name": "Python 3",
   "language": "python",
   "name": "python3"
  },
  "language_info": {
   "codemirror_mode": {
    "name": "ipython",
    "version": 3
   },
   "file_extension": ".py",
   "mimetype": "text/x-python",
   "name": "python",
   "nbconvert_exporter": "python",
   "pygments_lexer": "ipython3",
   "version": "3.7.0"
  }
 },
 "nbformat": 4,
 "nbformat_minor": 2
}
