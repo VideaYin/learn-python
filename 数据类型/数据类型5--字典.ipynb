{
 "cells": [
  {
   "cell_type": "markdown",
   "metadata": {},
   "source": [
    "<font color=\"red\" size=5>字典 dict</font>  \n",
    "<font color=\"blue\" size=3>字典是另一种set集合，无序，定义方式：{},{key1:value1,ley2:value2...}  不支持下标索引访问和切片操作</font>"
   ]
  },
  {
   "cell_type": "code",
   "execution_count": 2,
   "metadata": {},
   "outputs": [
    {
     "name": "stdout",
     "output_type": "stream",
     "text": [
      "<class 'dict'>\n",
      "1\n",
      "54\n"
     ]
    }
   ],
   "source": [
    "#字典访问方式\n",
    "a = {'a':1,\"b\":2,'c':3,\"d\":4,\"d\":54}\n",
    "print(type(a))\n",
    "print(a[\"a\"])\n",
    "print(a[\"d\"])"
   ]
  },
  {
   "cell_type": "code",
   "execution_count": 6,
   "metadata": {},
   "outputs": [
    {
     "name": "stdout",
     "output_type": "stream",
     "text": [
      "aaa\n",
      "{8, 9, 7}\n",
      "------------\n",
      "bbb\n",
      "{4, 5, 6}\n"
     ]
    }
   ],
   "source": [
    "#字典键值定义方式  key:只能是不可变类型，字符串，数字，元组  value:可以是任意类型\n",
    "a={1:\"aaa\",2:[\"b\",\"c\",\"d\"],\"3\":{9,8,7}}\n",
    "print(a[1])\n",
    "print(a[\"3\"])\n",
    "\n",
    "print(\"------------\")\n",
    "\n",
    "b={(1,2):\"bbb\",\"2\":3,3:{6,5,4}}\n",
    "print(b[(1,2)])\n",
    "# print(b[(1)])\n",
    "print(b[b[\"2\"]])"
   ]
  },
  {
   "cell_type": "code",
   "execution_count": 8,
   "metadata": {},
   "outputs": [
    {
     "name": "stdout",
     "output_type": "stream",
     "text": [
      "<class 'dict'>\n",
      "{}\n",
      "0\n"
     ]
    }
   ],
   "source": [
    "#定义一个空的字典\n",
    "a={}\n",
    "print(type(a))\n",
    "print(a)\n",
    "print(len(a))"
   ]
  }
 ],
 "metadata": {
  "kernelspec": {
   "display_name": "Python 3",
   "language": "python",
   "name": "python3"
  },
  "language_info": {
   "codemirror_mode": {
    "name": "ipython",
    "version": 3
   },
   "file_extension": ".py",
   "mimetype": "text/x-python",
   "name": "python",
   "nbconvert_exporter": "python",
   "pygments_lexer": "ipython3",
   "version": "3.7.0"
  }
 },
 "nbformat": 4,
 "nbformat_minor": 2
}
