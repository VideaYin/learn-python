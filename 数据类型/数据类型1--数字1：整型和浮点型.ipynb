{
 "cells": [
  {
   "cell_type": "markdown",
   "metadata": {},
   "source": [
    "<font color=\"red\" size=5>数字：整型 int</font>  \n",
    "<font color=\"blue\" size=5>数字：浮点型 float </font>"
   ]
  },
  {
   "cell_type": "code",
   "execution_count": 2,
   "metadata": {},
   "outputs": [
    {
     "name": "stdout",
     "output_type": "stream",
     "text": [
      "1\n",
      "<class 'int'>\n"
     ]
    }
   ],
   "source": [
    "#整型\n",
    "a = 1\n",
    "print(a)\n",
    "print(type(a))"
   ]
  },
  {
   "cell_type": "code",
   "execution_count": 4,
   "metadata": {},
   "outputs": [
    {
     "name": "stdout",
     "output_type": "stream",
     "text": [
      "1.2\n",
      "<class 'float'>\n"
     ]
    }
   ],
   "source": [
    "#浮点型\n",
    "a = 1.0\n",
    "a = 1.2\n",
    "print(a)\n",
    "print(type(a))"
   ]
  },
  {
   "cell_type": "code",
   "execution_count": 14,
   "metadata": {},
   "outputs": [
    {
     "name": "stdout",
     "output_type": "stream",
     "text": [
      "-----1.-----\n",
      "7\n",
      "<class 'int'>\n",
      "-----1.-----\n",
      "3\n",
      "<class 'int'>\n",
      "-----2.-----\n",
      "10\n",
      "<class 'int'>\n",
      "-----3.-----\n",
      "2.5\n",
      "<class 'float'>\n",
      "-----4.-----\n",
      "2\n",
      "<class 'int'>\n",
      "-----5.-----\n",
      "1.2\n",
      "<class 'float'>\n",
      "-----6.-----\n",
      "1\n",
      "<class 'int'>\n",
      "-----7.-----\n",
      "1\n",
      "<class 'int'>\n",
      "0\n",
      "-----8.-----\n",
      "25\n",
      "<class 'int'>\n"
     ]
    }
   ],
   "source": [
    "#整型和整型计算，整数和整数相除是浮点型，如果要两个整数相除结果为整数，则用a//b,结果取整\n",
    "a=5\n",
    "b=2\n",
    "c=6\n",
    "print(\"-----1.-----\")\n",
    "print(a+b)\n",
    "print(type(a+b))\n",
    "print(\"-----1.-----\")\n",
    "print(a-b)\n",
    "print(type(a-b))\n",
    "print(\"-----2.-----\")\n",
    "print(a*b)\n",
    "print(type(a*b))\n",
    "print(\"-----3.-----\")\n",
    "print(a/b)\n",
    "print(type(a/b))#float\n",
    "print(\"-----4.-----\")\n",
    "print(a//b)\n",
    "print(type(a//b))\n",
    "print(\"-----5.-----\")\n",
    "print(c/a)\n",
    "print(type(c/a))#float\n",
    "print(\"-----6.-----\")\n",
    "print(c//a)# 1\n",
    "print(type(c//a))#int\n",
    "print(\"-----7.-----\")\n",
    "print(a%b)\n",
    "print(type(a%b))\n",
    "print(c%b)\n",
    "print(\"-----8.-----\")\n",
    "print(a**b)\n",
    "print(type(a**b))"
   ]
  },
  {
   "cell_type": "code",
   "execution_count": 12,
   "metadata": {},
   "outputs": [
    {
     "name": "stdout",
     "output_type": "stream",
     "text": [
      "-----1.-----\n",
      "7.0\n",
      "<class 'float'>\n",
      "-----1.-----\n",
      "3.0\n",
      "<class 'float'>\n",
      "-----2.-----\n",
      "10.0\n",
      "<class 'float'>\n",
      "-----3.-----\n",
      "2.5\n",
      "<class 'float'>\n",
      "-----4.-----\n",
      "2.0\n",
      "<class 'float'>\n",
      "-----5.-----\n",
      "1.2\n",
      "<class 'float'>\n",
      "-----6.-----\n",
      "1.0\n",
      "<class 'float'>\n",
      "-----7.-----\n",
      "1.0\n",
      "<class 'float'>\n",
      "-----8.-----\n",
      "25.0\n",
      "<class 'float'>\n"
     ]
    }
   ],
   "source": [
    "#浮点型和浮点型计算，任意运算都是浮点型\n",
    "a=5.0\n",
    "b=2.0\n",
    "c=6.0\n",
    "print(\"-----1.-----\")\n",
    "print(a+b)\n",
    "print(type(a+b))\n",
    "print(\"-----1.-----\")\n",
    "print(a-b)\n",
    "print(type(a-b))\n",
    "print(\"-----2.-----\")\n",
    "print(a*b)\n",
    "print(type(a*b))\n",
    "print(\"-----3.-----\")\n",
    "print(a/b)\n",
    "print(type(a/b))\n",
    "print(\"-----4.-----\")\n",
    "print(a//b)\n",
    "print(type(a//b))\n",
    "print(\"-----5.-----\")\n",
    "print(c/a)\n",
    "print(type(c/a))\n",
    "print(\"-----6.-----\")\n",
    "print(c//a)# 1\n",
    "print(type(c//a))\n",
    "print(\"-----7.-----\")\n",
    "print(a%b)\n",
    "print(type(a%b))\n",
    "print(\"-----8.-----\")\n",
    "print(a**b)\n",
    "print(type(a**b))"
   ]
  },
  {
   "cell_type": "code",
   "execution_count": 15,
   "metadata": {},
   "outputs": [
    {
     "name": "stdout",
     "output_type": "stream",
     "text": [
      "-----1.-----\n",
      "5.3\n",
      "<class 'float'>\n",
      "-----2.-----\n",
      "4.7\n",
      "<class 'float'>\n",
      "-----3.-----\n",
      "1.5\n",
      "<class 'float'>\n",
      "-----4.-----\n",
      "16.666666666666668\n",
      "<class 'float'>\n",
      "-----5.-----\n",
      "16.0\n",
      "<class 'float'>\n",
      "-----6.-----\n",
      "1.6206565966927624\n",
      "<class 'float'>\n"
     ]
    }
   ],
   "source": [
    "#整型和浮点型的计算,全部是浮点型\n",
    "a=5\n",
    "b=0.3\n",
    "c=2\n",
    "print(\"-----1.-----\")\n",
    "print(a+b)\n",
    "print(type(a+b))\n",
    "print(\"-----2.-----\")\n",
    "print(a-b)\n",
    "print(type(a-b))\n",
    "print(\"-----3.-----\")\n",
    "print(a*b)\n",
    "print(type(a*b))\n",
    "print(\"-----4.-----\")\n",
    "print(a/b)\n",
    "print(type(a/b))\n",
    "print(\"-----5.-----\")\n",
    "print(a//b)\n",
    "print(type(a//b))\n",
    "print(\"-----6.-----\")\n",
    "print(a**b)\n",
    "print(type(a**b))"
   ]
  }
 ],
 "metadata": {
  "kernelspec": {
   "display_name": "Python 3",
   "language": "python",
   "name": "python3"
  },
  "language_info": {
   "codemirror_mode": {
    "name": "ipython",
    "version": 3
   },
   "file_extension": ".py",
   "mimetype": "text/x-python",
   "name": "python",
   "nbconvert_exporter": "python",
   "pygments_lexer": "ipython3",
   "version": "3.7.0"
  }
 },
 "nbformat": 4,
 "nbformat_minor": 2
}
