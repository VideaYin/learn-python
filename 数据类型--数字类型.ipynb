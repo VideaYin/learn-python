{
 "cells": [
  {
   "cell_type": "code",
   "execution_count": 4,
   "metadata": {},
   "outputs": [
    {
     "data": {
      "text/plain": [
       "True"
      ]
     },
     "execution_count": 4,
     "metadata": {},
     "output_type": "execute_result"
    }
   ],
   "source": [
    "# 进制表示\n",
    "\n",
    "# 十进制的3\n",
    "3\n",
    "# 2进制的3\n",
    "0b11\n",
    "# 8进制的3\n",
    "0o3\n",
    "#16进制的3\n",
    "0x3\n",
    "\n",
    "3==0b11"
   ]
  },
  {
   "cell_type": "code",
   "execution_count": 5,
   "metadata": {},
   "outputs": [
    {
     "name": "stdout",
     "output_type": "stream",
     "text": [
      "0b111\n",
      "0o7\n",
      "7\n",
      "0x7\n"
     ]
    }
   ],
   "source": [
    "# 进制转换\n",
    "\n",
    "#其它进制转换到2进制\n",
    "a=bin(7)\n",
    "print(a)\n",
    "\n",
    "#其它进制转换到8进制\n",
    "b=oct(7)\n",
    "print(b)\n",
    "\n",
    "#其它进制转换到10进制\n",
    "c=int(0o7)\n",
    "print(c)\n",
    "\n",
    "#其它进制转换到16进制\n",
    "d=hex(0x7)\n",
    "print(d)"
   ]
  },
  {
   "cell_type": "code",
   "execution_count": null,
   "metadata": {},
   "outputs": [],
   "source": []
  }
 ],
 "metadata": {
  "kernelspec": {
   "display_name": "Python 3",
   "language": "python",
   "name": "python3"
  },
  "language_info": {
   "codemirror_mode": {
    "name": "ipython",
    "version": 3
   },
   "file_extension": ".py",
   "mimetype": "text/x-python",
   "name": "python",
   "nbconvert_exporter": "python",
   "pygments_lexer": "ipython3",
   "version": "3.7.3"
  }
 },
 "nbformat": 4,
 "nbformat_minor": 2
}
