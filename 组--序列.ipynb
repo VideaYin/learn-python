{
 "cells": [
  {
   "cell_type": "markdown",
   "metadata": {},
   "source": [
    "**<font color = red size=5> 列表 list </font>**"
   ]
  },
  {
   "cell_type": "code",
   "execution_count": 5,
   "metadata": {
    "scrolled": true
   },
   "outputs": [
    {
     "data": {
      "text/plain": [
       "list"
      ]
     },
     "execution_count": 5,
     "metadata": {},
     "output_type": "execute_result"
    }
   ],
   "source": [
    "# list 列表， 列表中的元素可以是多种类型的\n",
    "a=[1,2,3,'4',5.5,['a','b',6.2,6],True]\n",
    "type(a)"
   ]
  },
  {
   "cell_type": "code",
   "execution_count": 10,
   "metadata": {},
   "outputs": [
    {
     "name": "stdout",
     "output_type": "stream",
     "text": [
      "1\n",
      "True\n",
      "[1, 2]\n",
      "[3, '4', 5.5, ['a', 'b', 6.2, 6], True]\n",
      "[True]\n"
     ]
    },
    {
     "data": {
      "text/plain": [
       "list"
      ]
     },
     "execution_count": 10,
     "metadata": {},
     "output_type": "execute_result"
    }
   ],
   "source": [
    "#访问列表元素\n",
    "print(a[0])\n",
    "print(a[-1])\n",
    "print(a[0:2])\n",
    "print(a[2:])#加了冒号后，类型还是list\n",
    "print(a[-1:])\n",
    "type(a[-1:])"
   ]
  },
  {
   "cell_type": "code",
   "execution_count": 12,
   "metadata": {},
   "outputs": [
    {
     "name": "stdout",
     "output_type": "stream",
     "text": [
      "[1, 2, 3, '4', 5.5, ['a', 'b', 6.2, 6], True, 'ppp']\n"
     ]
    }
   ],
   "source": [
    "# list和list之间可以相加\n",
    "b=[\"ppp\"]\n",
    "print(a+b)"
   ]
  },
  {
   "cell_type": "code",
   "execution_count": 14,
   "metadata": {},
   "outputs": [
    {
     "name": "stdout",
     "output_type": "stream",
     "text": [
      "['ppp', 'ppp']\n"
     ]
    }
   ],
   "source": [
    "#list可以和数字相乘\n",
    "print(b*2)"
   ]
  },
  {
   "cell_type": "markdown",
   "metadata": {},
   "source": [
    "**<font color = red size=5> 元组 tuple </font>**"
   ]
  },
  {
   "cell_type": "code",
   "execution_count": 15,
   "metadata": {},
   "outputs": [
    {
     "data": {
      "text/plain": [
       "tuple"
      ]
     },
     "execution_count": 15,
     "metadata": {},
     "output_type": "execute_result"
    }
   ],
   "source": [
    "# 元组，和列表类似，定义符号不一样，列表[]  元组()\n",
    "ta = (1,2,(3,3.5,\"666\"),'4',5.5,['a','b',6.2,6],True)\n",
    "type(ta)"
   ]
  },
  {
   "cell_type": "code",
   "execution_count": 16,
   "metadata": {},
   "outputs": [
    {
     "name": "stdout",
     "output_type": "stream",
     "text": [
      "1\n",
      "True\n",
      "(1, 2)\n",
      "((3, 3.5, '666'), '4', 5.5, ['a', 'b', 6.2, 6], True)\n",
      "(True,)\n"
     ]
    },
    {
     "data": {
      "text/plain": [
       "tuple"
      ]
     },
     "execution_count": 16,
     "metadata": {},
     "output_type": "execute_result"
    }
   ],
   "source": [
    "#访问元组元素\n",
    "print(ta[0])\n",
    "print(ta[-1])\n",
    "print(ta[0:2])\n",
    "print(ta[2:])#加了冒号后，类型还是tuple\n",
    "print(ta[-1:])\n",
    "type(ta[-1:])"
   ]
  },
  {
   "cell_type": "code",
   "execution_count": 18,
   "metadata": {},
   "outputs": [
    {
     "name": "stdout",
     "output_type": "stream",
     "text": [
      "<class 'str'>\n",
      "<class 'int'>\n"
     ]
    }
   ],
   "source": [
    "#加和乘操作和list一致\n",
    "\n"
   ]
  },
  {
   "cell_type": "code",
   "execution_count": 19,
   "metadata": {},
   "outputs": [
    {
     "name": "stdout",
     "output_type": "stream",
     "text": [
      "<class 'int'>\n",
      "<class 'str'>\n"
     ]
    }
   ],
   "source": [
    "#如果元组只有单一元素，则type为元素类型,因为小括号是运算优先级的标识，经过运算后最里面的小括号就没了，所以还是元素类型\n",
    "print(type((11)))\n",
    "print(type(('aa')))"
   ]
  },
  {
   "cell_type": "code",
   "execution_count": 20,
   "metadata": {},
   "outputs": [
    {
     "name": "stdout",
     "output_type": "stream",
     "text": [
      "<class 'tuple'>\n"
     ]
    }
   ],
   "source": [
    "#基于上述内容，为了表示只有一个元素的tuple，可以使用如下表示\n",
    "print(type((1,)))"
   ]
  },
  {
   "cell_type": "code",
   "execution_count": 22,
   "metadata": {},
   "outputs": [
    {
     "name": "stdout",
     "output_type": "stream",
     "text": [
      "<class 'tuple'>\n"
     ]
    }
   ],
   "source": [
    "#空元组如下表示\n",
    "print(type(()))"
   ]
  },
  {
   "cell_type": "markdown",
   "metadata": {},
   "source": [
    "**<font color = red size=4> 序列 str 、 list 、 tuple 共性 </font>**"
   ]
  },
  {
   "cell_type": "code",
   "execution_count": 28,
   "metadata": {},
   "outputs": [
    {
     "name": "stdout",
     "output_type": "stream",
     "text": [
      "a\n",
      "('aaa', 2)\n",
      "['cc', 'dd']\n"
     ]
    }
   ],
   "source": [
    "#1、序列中的每个元素都有一个指针，访问方式一致\n",
    "s = 'abc'\n",
    "l = [11,True,2.3,\"haha\",[\"aa\",\"bb\"],(\"aaa\",2)]\n",
    "t = (22,False,3.2,\"hehe\",(\"bb\",33),['cc','dd'])\n",
    "\n",
    "print(s[0])\n",
    "print(l[-1])\n",
    "print(t[5])"
   ]
  },
  {
   "cell_type": "code",
   "execution_count": 36,
   "metadata": {},
   "outputs": [
    {
     "name": "stdout",
     "output_type": "stream",
     "text": [
      "bc\n",
      "['haha', ['aa', 'bb']]\n",
      "(3.2, 'hehe', ('bb', 33))\n"
     ]
    }
   ],
   "source": [
    "#2、序列的切片操作一致\n",
    "# s = 'abc'\n",
    "# l = [11,True,2.3,\"haha\",[\"aa\",\"bb\"],(\"aaa\",2)]\n",
    "# t = (22,False,3.2,\"hehe\",(\"bb\",33),['cc','dd'])\n",
    "\n",
    "print(s[1:])\n",
    "print(l[-3:-1])\n",
    "print(t[2:5])"
   ]
  },
  {
   "cell_type": "code",
   "execution_count": 6,
   "metadata": {},
   "outputs": [
    {
     "name": "stdout",
     "output_type": "stream",
     "text": [
      "False\n",
      "True\n",
      "True\n",
      "False\n",
      "False\n"
     ]
    }
   ],
   "source": [
    "#3、序列判断是否包含指定元素\n",
    "s = 'abc'\n",
    "l = [11,True,2.3,\"haha\",[\"aa\",\"bb\"],(\"aaa\",2)]\n",
    "t = (22,False,3.2,\"hehe\",(\"bb\",33),['cc','dd'])\n",
    "\n",
    "print('3' in s)\n",
    "print('c' in s)\n",
    "print('haha' in l[-3:-1])\n",
    "print('haha' not in l[-3:-1])\n",
    "print(['cc','dd'] in t[2:5])"
   ]
  },
  {
   "cell_type": "code",
   "execution_count": 10,
   "metadata": {},
   "outputs": [
    {
     "name": "stdout",
     "output_type": "stream",
     "text": [
      "3\n",
      "c\n",
      "2\n",
      "g\n",
      "100\n"
     ]
    }
   ],
   "source": [
    "#4、序列获取长度方法一致\n",
    "# s = 'abc'\n",
    "# l = [11,True,2.3,\"haha\",[\"aa\",\"bb\"],(\"aaa\",2)]\n",
    "# t = (22,False,3.2,\"hehe\",(\"bb\",33),['cc','dd'])\n",
    "a = [2,4,5,6,9,8,7]\n",
    "b = ['a','b','c','A','B','g']\n",
    "\n",
    "#获取序列长度\n",
    "print(len(s))\n",
    "print(max(s))\n",
    "print(min(a))\n",
    "print(max(b))\n",
    "\n",
    "#获取字符串的acill\n",
    "print(ord('d'))\n",
    "\n"
   ]
  },
  {
   "cell_type": "code",
   "execution_count": null,
   "metadata": {},
   "outputs": [],
   "source": []
  }
 ],
 "metadata": {
  "kernelspec": {
   "display_name": "Python 3",
   "language": "python",
   "name": "python3"
  },
  "language_info": {
   "codemirror_mode": {
    "name": "ipython",
    "version": 3
   },
   "file_extension": ".py",
   "mimetype": "text/x-python",
   "name": "python",
   "nbconvert_exporter": "python",
   "pygments_lexer": "ipython3",
   "version": "3.7.3"
  }
 },
 "nbformat": 4,
 "nbformat_minor": 2
}
